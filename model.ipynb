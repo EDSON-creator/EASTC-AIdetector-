{
 "cells": [
  {
   "cell_type": "code",
   "execution_count": null,
   "id": "05c7b33f",
   "metadata": {},
   "outputs": [],
   "source": [
    "import os\n",
    "import pandas as pd \n",
    "import nltk\n",
    "from nltk.tokenize import word_tokenize\n",
    "from collections import Counter\n",
    "nltk.download('punkt')\n",
    "nltk.download('averaged_perceptron_tagger')\n",
    "import re\n",
    "import textstat\n",
    "from collections import Counter\n",
    "import language_tool_python\n",
    "from sklearn.pipeline import Pipeline\n",
    "import pickle \n",
    "import spacy\n",
    "# Load the English NER model\n",
    "nlp = spacy.load(\"en_core_web_sm\")\n",
    "tool = language_tool_python.LanguageTool('en-US')\n",
    "from sklearn.svm import SVC\n",
    "from sklearn.model_selection import train_test_split\n",
    "from transformers import GPT2LMHeadModel, GPT2Tokenizer, BertForMaskedLM, BertTokenizer\n",
    "import torch\n",
    "import numpy as np \n",
    "from sklearn.preprocessing import StandardScaler\n",
    "from sklearn.metrics import recall_score, precision_score, f1_score, confusion_matrix,accuracy_score"
   ]
  },
  {
   "cell_type": "code",
   "execution_count": 8,
   "id": "88da60a5",
   "metadata": {},
   "outputs": [],
   "source": [
    "data22 = pd.read_csv(\"sample23.csv\")"
   ]
  },
  {
   "cell_type": "code",
   "execution_count": 20,
   "id": "71fe6b6c",
   "metadata": {},
   "outputs": [],
   "source": [
    "#Punctuation count\n",
    "def punctuation_count(text):\n",
    "    punctuation = re.findall(r'[^\\w\\s]',text)\n",
    "    return len(punctuation)\n",
    "\n",
    "#word count\n",
    "def word_count_regex(text):\n",
    "    words = re.findall(r'\\b\\w+\\b', text)\n",
    "    return len(words)\n",
    "\n",
    "#noun count\n",
    "def noun_count(text):\n",
    "    tokens = word_tokenize(text)\n",
    "    tagged_tokens = nltk.pos_tag(tokens)\n",
    "    noun_count = sum(1 for _, tag in tagged_tokens if tag.startswith('NN'))\n",
    "    return noun_count\n",
    "\n",
    "#verb count\n",
    "def verb_count(text):\n",
    "    tokens = word_tokenize(text)\n",
    "    tagged_tokens = nltk.pos_tag(tokens)\n",
    "    verb_count = sum(1 for _, tag in tagged_tokens if tag.startswith('VB'))\n",
    "    return verb_count\n",
    "\n",
    "#adjective count\n",
    "def adj_count(text):\n",
    "    tokens = word_tokenize(text)\n",
    "    tagged_tokens = nltk.pos_tag(tokens)\n",
    "    adj_count = sum(1 for _, tag in tagged_tokens if tag.startswith('JJ'))\n",
    "    return adj_count\n",
    "\n",
    "#Average sentence length\n",
    "def  average_sentence(text):\n",
    "    # Split the text into sentences\n",
    "    sentences = nltk.sent_tokenize(text)\n",
    "    # Split each sentence into words and calculate the length of each sentence\n",
    "    sentence_lengths = [len(nltk.word_tokenize(sentence)) for sentence in sentences]\n",
    "    # Calculate the average sentence length\n",
    "    if sentence_lengths:\n",
    "        avg_length = sum(sentence_lengths) / len(sentence_lengths)\n",
    "    else:\n",
    "        avg_length = 0\n",
    "    return avg_length\n",
    "\n",
    "#number of named entity\n",
    "def count_ner_tokens(text):\n",
    "    doc = nlp(text)\n",
    "    ner_count = len(doc.ents)\n",
    "    return ner_count\n",
    "\n",
    "\n",
    "# function to calculate readability scores\n",
    "def calculate_readability_scores(text):\n",
    "    return pd.Series({\n",
    "        'flesch_reading_ease': textstat.flesch_reading_ease(text),\n",
    "        'flesch_kincaid_grade': textstat.flesch_kincaid_grade(text),\n",
    "        'gunning_fog': textstat.gunning_fog(text),\n",
    "        'coleman_liau_index': textstat.coleman_liau_index(text),\n",
    "        'dale_chall_readability_score': textstat.dale_chall_readability_score(text),\n",
    "        'ari': textstat.automated_readability_index(text),\n",
    "        'linsear_write_formula': textstat.linsear_write_formula(text),\n",
    "        'spache_readability': textstat.spache_readability(text)\n",
    "    })\n",
    "\n",
    "\n",
    "#number of grammatical errors \n",
    "def count_grammatical_errors(text):\n",
    "    matches = tool.check(text)\n",
    "    return len(matches)\n",
    "\n",
    "\n",
    "#number of unique words in a text \n",
    "def hapax_legomena_count(text):\n",
    "    # Tokenize the text into words\n",
    "    words = text.split()\n",
    "        # Return 0 if there are no words to avoid division by zero\n",
    "    if len(words) == 0:\n",
    "        return 0\n",
    "    # Count the frequency of each word\n",
    "    word_counts = Counter(words)\n",
    "    # Hapax legomena are words that appear exactly once\n",
    "    hapax_legomena = [word for word, count in word_counts.items() if count == 1]\n",
    "    hapax_ratio = len(hapax_legomena)/len(words)\n",
    "    return hapax_ratio\n",
    "\n",
    "\n",
    "def split_text(text, tokenizer, max_length):\n",
    "    tokens = tokenizer.encode(text, add_special_tokens=False)\n",
    "    chunks = [tokens[i:i+max_length] for i in range(0, len(tokens), max_length)]\n",
    "    return chunks\n",
    "\n",
    "def calculate_perplexity(model, tokenizer, tokens):\n",
    "    tokens_tensor = torch.tensor(tokens).unsqueeze(0)  # Add batch dimension\n",
    "    with torch.no_grad():\n",
    "        outputs = model(tokens_tensor, labels=tokens_tensor)\n",
    "        loss = outputs.loss.item()\n",
    "    return np.exp(loss)\n",
    "\n",
    "def calculate_perplexities(text, gpt2_model_name='gpt2', bert_model_name='bert-base-uncased', max_length=512, random_seed=42):\n",
    "    # Set random seed for consistency\n",
    "    np.random.seed(random_seed)\n",
    "    torch.manual_seed(random_seed)\n",
    "\n",
    "    # Load GPT-2 model and tokenizer\n",
    "    gpt2_model = GPT2LMHeadModel.from_pretrained(gpt2_model_name)\n",
    "    gpt2_tokenizer = GPT2Tokenizer.from_pretrained(gpt2_model_name)\n",
    "    gpt2_model.eval()\n",
    "\n",
    "    # Load BERT model and tokenizer\n",
    "    bert_model = BertForMaskedLM.from_pretrained(bert_model_name)\n",
    "    bert_tokenizer = BertTokenizer.from_pretrained(bert_model_name)\n",
    "    bert_model.eval()\n",
    "\n",
    "    # Split the input text into chunks for GPT-2\n",
    "    gpt2_chunks = split_text(text, gpt2_tokenizer, max_length=1024)\n",
    "    \n",
    "    # Calculate perplexity for each chunk and average them for GPT-2\n",
    "    gpt2_perplexities = [calculate_perplexity(gpt2_model, gpt2_tokenizer, chunk) for chunk in gpt2_chunks]\n",
    "    avg_gpt2_perplexity = np.mean(gpt2_perplexities)\n",
    "\n",
    "    # Split the input text into chunks for BERT\n",
    "    bert_chunks = split_text(text, bert_tokenizer, max_length=512)\n",
    "    \n",
    "    # Calculate perplexity for each chunk and average them for BERT\n",
    "    bert_perplexities = []\n",
    "    mask_token = bert_tokenizer.mask_token_id\n",
    "\n",
    "    for chunk in bert_chunks:\n",
    "        if len(chunk) > 2:  # Ensure there are enough tokens to mask\n",
    "            masked_chunk = chunk.copy()\n",
    "            mask_position = np.random.randint(1, len(masked_chunk) - 1)\n",
    "            masked_chunk[mask_position] = mask_token\n",
    "            bert_perplexity = calculate_perplexity(bert_model, bert_tokenizer, masked_chunk)\n",
    "            bert_perplexities.append(bert_perplexity)\n",
    "    \n",
    "    avg_bert_perplexity = np.mean(bert_perplexities) if bert_perplexities else float('inf')\n",
    "\n",
    "    return avg_gpt2_perplexity, avg_bert_perplexity\n",
    "\n",
    "\n",
    "def extract_features(text):\n",
    "    \n",
    "    gpt2_perplexity, bert_perplexity = calculate_perplexities(text)\n",
    "    # Call each feature extraction function and collect the results\n",
    "    features = {\n",
    "        \"word_count_regex\": word_count_regex(text),\n",
    "        \"punctuation_count\": punctuation_count(text),\n",
    "        \"verb_count\": verb_count(text),\n",
    "        \"adj_count\": adj_count(text),\n",
    "        \"noun_count\": noun_count(text),\n",
    "        \" average_sentence\": average_sentence(text),\n",
    "        \"count_ner_tokens\": count_ner_tokens(text),\n",
    "        \"count_grammatical_errors\": count_grammatical_errors(text),\n",
    "        \"hapax_legomena_count\": hapax_legomena_count(text),\n",
    "        **calculate_readability_scores(text), # Merge readability scores\n",
    "        \"gpt2_perplexity\": gpt2_perplexity,\n",
    "        \"bert_perplexity\": bert_perplexity\n",
    "        }\n",
    "    return features\n",
    "#features_df = pd.DataFrame(features, index=[0])"
   ]
  },
  {
   "cell_type": "code",
   "execution_count": 9,
   "id": "e1dc498d",
   "metadata": {},
   "outputs": [],
   "source": [
    "chunk_size = 1000  \n",
    "\n",
    "# Initialize an empty list to hold the processed chunks\n",
    "processed_chunks = []\n",
    "for chunk in pd.read_csv(\"sample23.csv\", chunksize=chunk_size):\n",
    "  # Apply the functions to the 'text' column\n",
    "   chunk['word_count_regex'] = chunk['text'].apply(word_count_regex)\n",
    "   chunk['punctuation_count'] = chunk['text'].apply(punctuation_count)\n",
    "   chunk['verb_count'] = chunk['text'].apply(verb_count)\n",
    "   chunk['adj_count'] = chunk['text'].apply(adj_count)\n",
    "   chunk['noun_count'] = chunk['text'].apply(noun_count)\n",
    "   chunk[' average_sentence'] = chunk['text'].apply(average_sentence)\n",
    "   chunk['count_ner_tokens'] = chunk['text'].apply(count_ner_tokens)\n",
    "   chunk['count_grammatical_errors'] = chunk['text'].apply(count_grammatical_errors)\n",
    "   chunk['hapax_legomena_count'] = chunk['text'].apply(hapax_legomena_count)\n",
    "   #append the processed chunk to the list\n",
    "   processed_chunks.append(chunk)\n",
    "\n",
    "# Concatenate all processed chunks into a single DataFrame\n",
    "processed_data = pd.concat(processed_chunks, ignore_index=True)\n",
    "# Combine the readability scores with the original data\n",
    "readability_scores_df = processed_data['text'].apply(calculate_readability_scores)\n",
    "readability_scores_df[['gpt2_perplexity', 'bert_perplexity']] = readability_scores_df['text'].apply(\n",
    "    lambda x: pd.Series(calculate_perplexities(x))\n",
    ")\n",
    "combined_df = pd.concat([processed_data, readability_scores_df], axis=1)\n",
    "combined_df.to_csv('final.csv', index=False)"
   ]
  },
  {
   "cell_type": "code",
   "execution_count": 71,
   "id": "2f6cf9fb",
   "metadata": {},
   "outputs": [
    {
     "data": {
      "text/html": [
       "<style>#sk-container-id-4 {color: black;}#sk-container-id-4 pre{padding: 0;}#sk-container-id-4 div.sk-toggleable {background-color: white;}#sk-container-id-4 label.sk-toggleable__label {cursor: pointer;display: block;width: 100%;margin-bottom: 0;padding: 0.3em;box-sizing: border-box;text-align: center;}#sk-container-id-4 label.sk-toggleable__label-arrow:before {content: \"▸\";float: left;margin-right: 0.25em;color: #696969;}#sk-container-id-4 label.sk-toggleable__label-arrow:hover:before {color: black;}#sk-container-id-4 div.sk-estimator:hover label.sk-toggleable__label-arrow:before {color: black;}#sk-container-id-4 div.sk-toggleable__content {max-height: 0;max-width: 0;overflow: hidden;text-align: left;background-color: #f0f8ff;}#sk-container-id-4 div.sk-toggleable__content pre {margin: 0.2em;color: black;border-radius: 0.25em;background-color: #f0f8ff;}#sk-container-id-4 input.sk-toggleable__control:checked~div.sk-toggleable__content {max-height: 200px;max-width: 100%;overflow: auto;}#sk-container-id-4 input.sk-toggleable__control:checked~label.sk-toggleable__label-arrow:before {content: \"▾\";}#sk-container-id-4 div.sk-estimator input.sk-toggleable__control:checked~label.sk-toggleable__label {background-color: #d4ebff;}#sk-container-id-4 div.sk-label input.sk-toggleable__control:checked~label.sk-toggleable__label {background-color: #d4ebff;}#sk-container-id-4 input.sk-hidden--visually {border: 0;clip: rect(1px 1px 1px 1px);clip: rect(1px, 1px, 1px, 1px);height: 1px;margin: -1px;overflow: hidden;padding: 0;position: absolute;width: 1px;}#sk-container-id-4 div.sk-estimator {font-family: monospace;background-color: #f0f8ff;border: 1px dotted black;border-radius: 0.25em;box-sizing: border-box;margin-bottom: 0.5em;}#sk-container-id-4 div.sk-estimator:hover {background-color: #d4ebff;}#sk-container-id-4 div.sk-parallel-item::after {content: \"\";width: 100%;border-bottom: 1px solid gray;flex-grow: 1;}#sk-container-id-4 div.sk-label:hover label.sk-toggleable__label {background-color: #d4ebff;}#sk-container-id-4 div.sk-serial::before {content: \"\";position: absolute;border-left: 1px solid gray;box-sizing: border-box;top: 0;bottom: 0;left: 50%;z-index: 0;}#sk-container-id-4 div.sk-serial {display: flex;flex-direction: column;align-items: center;background-color: white;padding-right: 0.2em;padding-left: 0.2em;position: relative;}#sk-container-id-4 div.sk-item {position: relative;z-index: 1;}#sk-container-id-4 div.sk-parallel {display: flex;align-items: stretch;justify-content: center;background-color: white;position: relative;}#sk-container-id-4 div.sk-item::before, #sk-container-id-4 div.sk-parallel-item::before {content: \"\";position: absolute;border-left: 1px solid gray;box-sizing: border-box;top: 0;bottom: 0;left: 50%;z-index: -1;}#sk-container-id-4 div.sk-parallel-item {display: flex;flex-direction: column;z-index: 1;position: relative;background-color: white;}#sk-container-id-4 div.sk-parallel-item:first-child::after {align-self: flex-end;width: 50%;}#sk-container-id-4 div.sk-parallel-item:last-child::after {align-self: flex-start;width: 50%;}#sk-container-id-4 div.sk-parallel-item:only-child::after {width: 0;}#sk-container-id-4 div.sk-dashed-wrapped {border: 1px dashed gray;margin: 0 0.4em 0.5em 0.4em;box-sizing: border-box;padding-bottom: 0.4em;background-color: white;}#sk-container-id-4 div.sk-label label {font-family: monospace;font-weight: bold;display: inline-block;line-height: 1.2em;}#sk-container-id-4 div.sk-label-container {text-align: center;}#sk-container-id-4 div.sk-container {/* jupyter's `normalize.less` sets `[hidden] { display: none; }` but bootstrap.min.css set `[hidden] { display: none !important; }` so we also need the `!important` here to be able to override the default hidden behavior on the sphinx rendered scikit-learn.org. See: https://github.com/scikit-learn/scikit-learn/issues/21755 */display: inline-block !important;position: relative;}#sk-container-id-4 div.sk-text-repr-fallback {display: none;}</style><div id=\"sk-container-id-4\" class=\"sk-top-container\"><div class=\"sk-text-repr-fallback\"><pre>SVC(probability=True)</pre><b>In a Jupyter environment, please rerun this cell to show the HTML representation or trust the notebook. <br />On GitHub, the HTML representation is unable to render, please try loading this page with nbviewer.org.</b></div><div class=\"sk-container\" hidden><div class=\"sk-item\"><div class=\"sk-estimator sk-toggleable\"><input class=\"sk-toggleable__control sk-hidden--visually\" id=\"sk-estimator-id-4\" type=\"checkbox\" checked><label for=\"sk-estimator-id-4\" class=\"sk-toggleable__label sk-toggleable__label-arrow\">SVC</label><div class=\"sk-toggleable__content\"><pre>SVC(probability=True)</pre></div></div></div></div></div>"
      ],
      "text/plain": [
       "SVC(probability=True)"
      ]
     },
     "execution_count": 71,
     "metadata": {},
     "output_type": "execute_result"
    }
   ],
   "source": [
    "import shap\n",
    "combined_df = pd.read_csv(\"final.csv\")\n",
    "combined_df = combined_df.dropna()\n",
    "#splitting the dataset into X and Y\n",
    "X = combined_df.iloc[:,list(range(2, combined_df.shape[1]))]\n",
    "Y = combined_df.iloc[:,1]\n",
    "\n",
    "#splitting dataset into train and test\n",
    "X_train, X_test, y_train, y_test = train_test_split(X, Y, test_size=0.2, random_state=42)\n",
    "\n",
    "#loading scaler \n",
    "scaler = StandardScaler()\n",
    "\n",
    "#scaling train dataset\n",
    "X_train_scaled = scaler.fit_transform(X_train)\n",
    "\n",
    "#fitting the model \n",
    "svm = SVC(kernel='rbf',probability = True) \n",
    "svm.fit(X_train_scaled, y_train)"
   ]
  },
  {
   "cell_type": "code",
   "execution_count": 73,
   "id": "4eb12ccf",
   "metadata": {},
   "outputs": [
    {
     "data": {
      "text/plain": [
       "0.9875"
      ]
     },
     "execution_count": 73,
     "metadata": {},
     "output_type": "execute_result"
    }
   ],
   "source": [
    "X_test_scaled = scaler.transform(X_test)\n",
    "y_pred = svm.predict(X_test_scaled)\n",
    "accuracy = accuracy_score(y_test, y_pred)\n",
    "accuracy"
   ]
  },
  {
   "cell_type": "code",
   "execution_count": 63,
   "id": "3a712c11",
   "metadata": {},
   "outputs": [],
   "source": [
    "# Create DataFrame for plotting\n",
    "train_data = X_train.copy()\n",
    "train_data['label'] = y_train.values\n",
    "train_data['dataset'] = 'Training'\n",
    "\n",
    "test_data = X_test.copy()\n",
    "test_data['label'] = y_test.values\n",
    "test_data['dataset'] = 'Testing'\n",
    "\n",
    "combined_data = pd.concat([train_data, test_data])"
   ]
  },
  {
   "cell_type": "code",
   "execution_count": 64,
   "id": "5be85735",
   "metadata": {},
   "outputs": [
    {
     "name": "stderr",
     "output_type": "stream",
     "text": [
      "C:\\Users\\PC\\AppData\\Local\\Temp\\ipykernel_12728\\2755023828.py:14: FutureWarning: \n",
      "\n",
      "Passing `palette` without assigning `hue` is deprecated and will be removed in v0.14.0. Assign the `x` variable to `hue` and set `legend=False` for the same effect.\n",
      "\n",
      "  barplot = sns.barplot(data=size_df, x='Dataset', y='Size', palette='viridis')\n"
     ]
    },
    {
     "data": {
      "image/png": "[encoded data removed]",
      "text/plain": [
       "<Figure size 600x600 with 1 Axes>"
      ]
     },
     "metadata": {},
     "output_type": "display_data"
    }
   ],
   "source": [
    "\n",
    "\n"
   ]
  },
  {
   "cell_type": "code",
   "execution_count": null,
   "id": "df0eb5a1",
   "metadata": {},
   "outputs": [
    {
     "data": {
      "application/vnd.jupyter.widget-view+json": {
       "model_id": "b480feb58c234da0bab76c198f169d68",
       "version_major": 2,
       "version_minor": 0
      },
      "text/plain": [
       "  0%|          | 0/6000 [00:00<?, ?it/s]"
      ]
     },
     "metadata": {},
     "output_type": "display_data"
    }
   ],
   "source": [
    "model = pickle.load(open('model3.pkl', 'rb'))\n",
    "background_data = shap.sample(X_train, 100)\n",
    "explainer = shap.KernelExplainer(model.predict_proba, background_data)\n",
    "shap_values = explainer.shap_values(X_test,nsamples=100)"
   ]
  },
  {
   "cell_type": "code",
   "execution_count": 48,
   "id": "e6d1c8b6",
   "metadata": {},
   "outputs": [
    {
     "ename": "TypeError",
     "evalue": "only integer scalar arrays can be converted to a scalar index",
     "output_type": "error",
     "traceback": [
      "\u001b[1;31m---------------------------------------------------------------------------\u001b[0m",
      "\u001b[1;31mTypeError\u001b[0m                                 Traceback (most recent call last)",
      "Cell \u001b[1;32mIn[48], line 3\u001b[0m\n\u001b[0;32m      1\u001b[0m column_names \u001b[38;5;241m=\u001b[39m combined_df\u001b[38;5;241m.\u001b[39mcolumns\u001b[38;5;241m.\u001b[39mtolist()\n\u001b[0;32m      2\u001b[0m feature_names \u001b[38;5;241m=\u001b[39m column_names[\u001b[38;5;241m2\u001b[39m:]\n\u001b[1;32m----> 3\u001b[0m \u001b[43mshap\u001b[49m\u001b[38;5;241;43m.\u001b[39;49m\u001b[43msummary_plot\u001b[49m\u001b[43m(\u001b[49m\u001b[43mshap_values\u001b[49m\u001b[43m,\u001b[49m\u001b[43m \u001b[49m\u001b[43mX_test\u001b[49m\u001b[43m,\u001b[49m\u001b[43mfeature_names\u001b[49m\u001b[43m \u001b[49m\u001b[38;5;241;43m=\u001b[39;49m\u001b[43m \u001b[49m\u001b[43mfeature_names\u001b[49m\u001b[43m)\u001b[49m\n",
      "File \u001b[1;32m~\\AppData\\Roaming\\Python\\Python311\\site-packages\\shap\\plots\\_beeswarm.py:607\u001b[0m, in \u001b[0;36msummary_legacy\u001b[1;34m(shap_values, features, feature_names, max_display, plot_type, color, axis_color, title, alpha, show, sort, color_bar, plot_size, layered_violin_max_num_bins, class_names, class_inds, color_bar_label, cmap, show_values_in_legend, auto_size_plot, use_log_scale)\u001b[0m\n\u001b[0;32m    603\u001b[0m proj_shap_values \u001b[38;5;241m=\u001b[39m shap_values[:, sort_inds[\u001b[38;5;241m0\u001b[39m], sort_inds]\n\u001b[0;32m    604\u001b[0m proj_shap_values[:, \u001b[38;5;241m1\u001b[39m:] \u001b[38;5;241m*\u001b[39m\u001b[38;5;241m=\u001b[39m \u001b[38;5;241m2\u001b[39m  \u001b[38;5;66;03m# because off diag effects are split in half\u001b[39;00m\n\u001b[0;32m    605\u001b[0m summary_legacy(\n\u001b[0;32m    606\u001b[0m     proj_shap_values, features[:, sort_inds] \u001b[38;5;28;01mif\u001b[39;00m features \u001b[38;5;129;01mis\u001b[39;00m \u001b[38;5;129;01mnot\u001b[39;00m \u001b[38;5;28;01mNone\u001b[39;00m \u001b[38;5;28;01melse\u001b[39;00m \u001b[38;5;28;01mNone\u001b[39;00m,\n\u001b[1;32m--> 607\u001b[0m     feature_names\u001b[38;5;241m=\u001b[39m\u001b[43mfeature_names\u001b[49m\u001b[43m[\u001b[49m\u001b[43msort_inds\u001b[49m\u001b[43m]\u001b[49m,\n\u001b[0;32m    608\u001b[0m     sort\u001b[38;5;241m=\u001b[39m\u001b[38;5;28;01mFalse\u001b[39;00m, show\u001b[38;5;241m=\u001b[39m\u001b[38;5;28;01mFalse\u001b[39;00m, color_bar\u001b[38;5;241m=\u001b[39m\u001b[38;5;28;01mFalse\u001b[39;00m,\n\u001b[0;32m    609\u001b[0m     plot_size\u001b[38;5;241m=\u001b[39m\u001b[38;5;28;01mNone\u001b[39;00m,\n\u001b[0;32m    610\u001b[0m     max_display\u001b[38;5;241m=\u001b[39mmax_display\n\u001b[0;32m    611\u001b[0m )\n\u001b[0;32m    612\u001b[0m pl\u001b[38;5;241m.\u001b[39mxlim((slow, shigh))\n\u001b[0;32m    613\u001b[0m pl\u001b[38;5;241m.\u001b[39mxlabel(\u001b[38;5;124m\"\u001b[39m\u001b[38;5;124m\"\u001b[39m)\n",
      "\u001b[1;31mTypeError\u001b[0m: only integer scalar arrays can be converted to a scalar index"
     ]
    },
    {
     "data": {
      "image/png": "[encoded data removed]",
      "text/plain": [
       "<Figure size 1150x660 with 1 Axes>"
      ]
     },
     "metadata": {},
     "output_type": "display_data"
    }
   ],
   "source": [
    "column_names = combined_df.columns.tolist()\n",
    "feature_names = column_names[2:]\n",
    "shap.summary_plot(shap_values, X_test,feature_names = feature_names)"
   ]
  },
  {
   "cell_type": "code",
   "execution_count": 42,
   "id": "d3f28d55",
   "metadata": {},
   "outputs": [
    {
     "name": "stdout",
     "output_type": "stream",
     "text": [
      "Column names: ['text', 'generated', 'word_count_regex', 'punctuation_count', 'verb_count', 'adj_count', 'noun_count', ' average_sentence', 'count_ner_tokens', 'count_grammatical_errors', 'hapax_legomena_count', 'flesch_reading_ease', 'flesch_kincaid_grade', 'gunning_fog', 'coleman_liau_index', 'dale_chall_readability_score', 'ari', 'linsear_write_formula', 'spache_readability', 'gpt2_perplexity', 'bert_perplexity']\n"
     ]
    }
   ],
   "source": [
    "print(\"Column names:\", column_names)"
   ]
  },
  {
   "cell_type": "code",
   "execution_count": 43,
   "id": "6efb3317",
   "metadata": {},
   "outputs": [
    {
     "name": "stdout",
     "output_type": "stream",
     "text": [
      "Feature names: ['word_count_regex', 'punctuation_count', 'verb_count', 'adj_count', 'noun_count', ' average_sentence', 'count_ner_tokens', 'count_grammatical_errors', 'hapax_legomena_count', 'flesch_reading_ease', 'flesch_kincaid_grade', 'gunning_fog', 'coleman_liau_index', 'dale_chall_readability_score', 'ari', 'linsear_write_formula', 'spache_readability', 'gpt2_perplexity', 'bert_perplexity']\n"
     ]
    }
   ],
   "source": [
    "print(\"Feature names:\", feature_names)"
   ]
  },
  {
   "cell_type": "code",
   "execution_count": 44,
   "id": "10fbd978",
   "metadata": {},
   "outputs": [
    {
     "name": "stdout",
     "output_type": "stream",
     "text": [
      "X columns: ['word_count_regex', 'punctuation_count', 'verb_count', 'adj_count', 'noun_count', ' average_sentence', 'count_ner_tokens', 'count_grammatical_errors', 'hapax_legomena_count', 'flesch_reading_ease', 'flesch_kincaid_grade', 'gunning_fog', 'coleman_liau_index', 'dale_chall_readability_score', 'ari', 'linsear_write_formula', 'spache_readability', 'gpt2_perplexity', 'bert_perplexity']\n"
     ]
    }
   ],
   "source": [
    "print(\"X columns:\", X.columns.tolist())"
   ]
  },
  {
   "cell_type": "code",
   "execution_count": 45,
   "id": "940a1e36",
   "metadata": {},
   "outputs": [
    {
     "name": "stdout",
     "output_type": "stream",
     "text": [
      "SHAP values shape: (6000, 19, 2)\n"
     ]
    }
   ],
   "source": [
    "print(\"SHAP values shape:\", shap_values.shape)"
   ]
  },
  {
   "cell_type": "code",
   "execution_count": 46,
   "id": "ca85d163",
   "metadata": {},
   "outputs": [
    {
     "name": "stdout",
     "output_type": "stream",
     "text": [
      "X_test shape: (6000, 19)\n"
     ]
    }
   ],
   "source": [
    "print(\"X_test shape:\", X_test.shape)"
   ]
  },
  {
   "cell_type": "code",
   "execution_count": 40,
   "id": "cb6c6b5d",
   "metadata": {},
   "outputs": [
    {
     "data": {
      "text/plain": [
       "['word_count_regex',\n",
       " 'punctuation_count',\n",
       " 'verb_count',\n",
       " 'adj_count',\n",
       " 'noun_count',\n",
       " ' average_sentence',\n",
       " 'count_ner_tokens',\n",
       " 'count_grammatical_errors',\n",
       " 'hapax_legomena_count',\n",
       " 'flesch_reading_ease',\n",
       " 'flesch_kincaid_grade',\n",
       " 'gunning_fog',\n",
       " 'coleman_liau_index',\n",
       " 'dale_chall_readability_score',\n",
       " 'ari',\n",
       " 'linsear_write_formula',\n",
       " 'spache_readability',\n",
       " 'gpt2_perplexity',\n",
       " 'bert_perplexity']"
      ]
     },
     "execution_count": 40,
     "metadata": {},
     "output_type": "execute_result"
    }
   ],
   "source": [
    "feature_names"
   ]
  },
  {
   "cell_type": "code",
   "execution_count": 30,
   "id": "72bfb2ba",
   "metadata": {},
   "outputs": [
    {
     "ename": "AttributeError",
     "evalue": "'StandardScaler' object has no attribute 'mean_'",
     "output_type": "error",
     "traceback": [
      "\u001b[1;31m---------------------------------------------------------------------------\u001b[0m",
      "\u001b[1;31mAttributeError\u001b[0m                            Traceback (most recent call last)",
      "Cell \u001b[1;32mIn[30], line 2\u001b[0m\n\u001b[0;32m      1\u001b[0m \u001b[38;5;66;03m#Model performance measure \u001b[39;00m\n\u001b[1;32m----> 2\u001b[0m X_test_scaled \u001b[38;5;241m=\u001b[39m \u001b[43mscaler\u001b[49m\u001b[38;5;241;43m.\u001b[39;49m\u001b[43mtransform\u001b[49m\u001b[43m(\u001b[49m\u001b[43mX_test\u001b[49m\u001b[43m)\u001b[49m\n\u001b[0;32m      3\u001b[0m \u001b[38;5;66;03m#y_pred = svm.predict(X_test_scaled)\u001b[39;00m\n\u001b[0;32m      4\u001b[0m \u001b[38;5;124;03m\"\"\"\"\u001b[39;00m\n\u001b[0;32m      5\u001b[0m \u001b[38;5;124;03m#model accuracy\u001b[39;00m\n\u001b[0;32m      6\u001b[0m \u001b[38;5;124;03maccuracy = accuracy_score(y_test, y_pred)\u001b[39;00m\n\u001b[1;32m   (...)\u001b[0m\n\u001b[0;32m     16\u001b[0m \n\u001b[0;32m     17\u001b[0m \u001b[38;5;124;03m\"\"\"\u001b[39;00m\n",
      "File \u001b[1;32m~\\AppData\\Roaming\\Python\\Python311\\site-packages\\sklearn\\utils\\_set_output.py:157\u001b[0m, in \u001b[0;36m_wrap_method_output.<locals>.wrapped\u001b[1;34m(self, X, *args, **kwargs)\u001b[0m\n\u001b[0;32m    155\u001b[0m \u001b[38;5;129m@wraps\u001b[39m(f)\n\u001b[0;32m    156\u001b[0m \u001b[38;5;28;01mdef\u001b[39;00m \u001b[38;5;21mwrapped\u001b[39m(\u001b[38;5;28mself\u001b[39m, X, \u001b[38;5;241m*\u001b[39margs, \u001b[38;5;241m*\u001b[39m\u001b[38;5;241m*\u001b[39mkwargs):\n\u001b[1;32m--> 157\u001b[0m     data_to_wrap \u001b[38;5;241m=\u001b[39m \u001b[43mf\u001b[49m\u001b[43m(\u001b[49m\u001b[38;5;28;43mself\u001b[39;49m\u001b[43m,\u001b[49m\u001b[43m \u001b[49m\u001b[43mX\u001b[49m\u001b[43m,\u001b[49m\u001b[43m \u001b[49m\u001b[38;5;241;43m*\u001b[39;49m\u001b[43margs\u001b[49m\u001b[43m,\u001b[49m\u001b[43m \u001b[49m\u001b[38;5;241;43m*\u001b[39;49m\u001b[38;5;241;43m*\u001b[39;49m\u001b[43mkwargs\u001b[49m\u001b[43m)\u001b[49m\n\u001b[0;32m    158\u001b[0m     \u001b[38;5;28;01mif\u001b[39;00m \u001b[38;5;28misinstance\u001b[39m(data_to_wrap, \u001b[38;5;28mtuple\u001b[39m):\n\u001b[0;32m    159\u001b[0m         \u001b[38;5;66;03m# only wrap the first output for cross decomposition\u001b[39;00m\n\u001b[0;32m    160\u001b[0m         return_tuple \u001b[38;5;241m=\u001b[39m (\n\u001b[0;32m    161\u001b[0m             _wrap_data_with_container(method, data_to_wrap[\u001b[38;5;241m0\u001b[39m], X, \u001b[38;5;28mself\u001b[39m),\n\u001b[0;32m    162\u001b[0m             \u001b[38;5;241m*\u001b[39mdata_to_wrap[\u001b[38;5;241m1\u001b[39m:],\n\u001b[0;32m    163\u001b[0m         )\n",
      "File \u001b[1;32m~\\AppData\\Roaming\\Python\\Python311\\site-packages\\sklearn\\preprocessing\\_data.py:1025\u001b[0m, in \u001b[0;36mStandardScaler.transform\u001b[1;34m(self, X, copy)\u001b[0m\n\u001b[0;32m   1023\u001b[0m \u001b[38;5;28;01melse\u001b[39;00m:\n\u001b[0;32m   1024\u001b[0m     \u001b[38;5;28;01mif\u001b[39;00m \u001b[38;5;28mself\u001b[39m\u001b[38;5;241m.\u001b[39mwith_mean:\n\u001b[1;32m-> 1025\u001b[0m         X \u001b[38;5;241m-\u001b[39m\u001b[38;5;241m=\u001b[39m \u001b[38;5;28;43mself\u001b[39;49m\u001b[38;5;241;43m.\u001b[39;49m\u001b[43mmean_\u001b[49m\n\u001b[0;32m   1026\u001b[0m     \u001b[38;5;28;01mif\u001b[39;00m \u001b[38;5;28mself\u001b[39m\u001b[38;5;241m.\u001b[39mwith_std:\n\u001b[0;32m   1027\u001b[0m         X \u001b[38;5;241m/\u001b[39m\u001b[38;5;241m=\u001b[39m \u001b[38;5;28mself\u001b[39m\u001b[38;5;241m.\u001b[39mscale_\n",
      "\u001b[1;31mAttributeError\u001b[0m: 'StandardScaler' object has no attribute 'mean_'"
     ]
    }
   ],
   "source": [
    "#Model performance measure \n",
    "X_test_scaled = scaler.transform(X_test)\n",
    "#y_pred = svm.predict(X_test_scaled)\n",
    "\"\"\"\"\n",
    "#model accuracy\n",
    "accuracy = accuracy_score(y_test, y_pred)\n",
    "\n",
    "#recall score\n",
    "recall = recall_score(y_test, y_pred)\n",
    "\n",
    "# Precision score\n",
    "precision = precision_score(y_test, y_pred)\n",
    "\n",
    "# F1 Score\n",
    "f1 = f1_score(y_test, y_pred)\n",
    "\n",
    "\"\"\""
   ]
  },
  {
   "cell_type": "code",
   "execution_count": null,
   "id": "25ea0359",
   "metadata": {},
   "outputs": [],
   "source": [
    "features = extract_features(x)\n",
    "features_df = pd.DataFrame(features, index=[0])\n",
    "features_df"
   ]
  },
  {
   "cell_type": "code",
   "execution_count": 12,
   "id": "d94db2ce",
   "metadata": {},
   "outputs": [],
   "source": [
    "#Feature importance \n"
   ]
  }
 ],
 "metadata": {
  "kernelspec": {
   "display_name": "Python 3 (ipykernel)",
   "language": "python",
   "name": "python3"
  },
  "language_info": {
   "codemirror_mode": {
    "name": "ipython",
    "version": 3
   },
   "file_extension": ".py",
   "mimetype": "text/x-python",
   "name": "python",
   "nbconvert_exporter": "python",
   "pygments_lexer": "ipython3",
   "version": "3.11.3"
  }
 },
 "nbformat": 4,
 "nbformat_minor": 5
}
